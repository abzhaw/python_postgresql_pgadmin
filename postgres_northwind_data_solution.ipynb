{
 "cells": [
  {
   "cell_type": "markdown",
   "id": "61847f62",
   "metadata": {},
   "source": [
    "# Importing and Querying Data with PostgreSQL (Northwind Database)\n",
    "\n",
    "Describtion of the Northwind Database: https://en.wikiversity.org/wiki/Database_Examples/Northwind \n",
    "\n",
    "Example SQL-Queries based on the Northwind Database: https://www.w3schools.com/sql/default.asp\n",
    "\n",
    "SQL Tutorials: https://www.youtube.com/watch?v=zpnHsWOy0RY&list=PLP9IO4UYNF0UQkBXlTMSw0CYsxv-GDkkI"
   ]
  },
  {
   "cell_type": "markdown",
   "id": "a5bf2790",
   "metadata": {},
   "source": [
    "## Frequently used SQL clauses (for in-depth learning)"
   ]
  },
  {
   "cell_type": "markdown",
   "id": "901761f3",
   "metadata": {},
   "source": [
    "<div>\n",
    "  <style>\n",
    "    .sql-keyword {\n",
    "      color: blue;\n",
    "    }\n",
    "  </style>\n",
    "  <span class=\"sql-keyword\">SELECT</span><br>\n",
    "  <span class=\"sql-keyword\">SELECT DISTINCT</span><br>\n",
    "  <span class=\"sql-keyword\">FROM</span><br>\n",
    "  <span class=\"sql-keyword\">WHERE</span><br>\n",
    "  <span class=\"sql-keyword\">AND</span><br>\n",
    "  <span class=\"sql-keyword\">LIKE</span><br>\n",
    "  <span class=\"sql-keyword\">GROUP BY</span><br>\n",
    "  <span class=\"sql-keyword\">HAVING</span><br>\n",
    "  <span class=\"sql-keyword\">ORDER BY</span><br>\n",
    "  <span class=\"sql-keyword\">FULL JOIN</span><br>\n",
    "  <span class=\"sql-keyword\">INNER JOIN</span><br>\n",
    "  <span class=\"sql-keyword\">LEFT JOIN</span><br>\n",
    "  <span class=\"sql-keyword\">RIGHT JOIN</span><br>\n",
    "  <span class=\"sql-keyword\">ON</span><br>\n",
    "  <span class=\"sql-keyword\">LIMIT</span><br>\n",
    "  <span class=\"sql-keyword\">AS</span><br>\n",
    "  <span class=\"sql-keyword\">AVG</span><br>\n",
    "  <span class=\"sql-keyword\">COUNT</span><br>\n",
    "  <span class=\"sql-keyword\">MIN</span><br>\n",
    "  <span class=\"sql-keyword\">MAX</span><br>\n",
    "  <span class=\"sql-keyword\">SUM</span><br>\n",
    "  <span class=\"sql-keyword\">BETWEEN</span><br>\n",
    "  <span class=\"sql-keyword\">IN</span><br>\n",
    "  <span class=\"sql-keyword\">IS NULL</span><br>\n",
    "  <span class=\"sql-keyword\">IS NOT NULL</span><br> \n",
    "  <span class=\"sql-keyword\">ROUND</span><br> \n",
    "  <span class=\"sql-keyword\">CAST</span><br>\n",
    "  <span class=\"sql-keyword\">NUMERIC</span><br>\n",
    "  <span class=\"sql-keyword\">INTEGER</span>  \n",
    "</div>"
   ]
  },
  {
   "cell_type": "markdown",
   "id": "9b8df3dd",
   "metadata": {},
   "source": [
    "## Libraries and Settings"
   ]
  },
  {
   "cell_type": "code",
   "execution_count": 9,
   "id": "b027d889",
   "metadata": {},
   "outputs": [
    {
     "name": "stdout",
     "output_type": "stream",
     "text": [
      "/\n"
     ]
    }
   ],
   "source": [
    "# Libraries\n",
    "import os\n",
    "import pandas as pd\n",
    "from sqlalchemy import create_engine, text\n",
    "import matplotlib.pyplot as plt\n",
    "\n",
    "# Settings\n",
    "import warnings\n",
    "warnings.filterwarnings(\"ignore\")\n",
    "\n",
    "# Current working directory\n",
    "print(os.getcwd())"
   ]
  },
  {
   "cell_type": "markdown",
   "id": "53f4b234",
   "metadata": {},
   "source": [
    "## Read data from .csv files to separate data frames "
   ]
  },
  {
   "cell_type": "code",
   "execution_count": 2,
   "id": "ef32ffa2-1859-48af-a78c-0f1b5748fc98",
   "metadata": {},
   "outputs": [
    {
     "name": "stdout",
     "output_type": "stream",
     "text": [
      "Lowercase Column Names:\n",
      "Customers: ['customerid', 'customername', 'contactname', 'address', 'city', 'postalcode', 'country']\n",
      "Categories: ['categoryid', 'categoryname', 'description']\n",
      "Employees: ['employeeid', 'lastname', 'firstname', 'birthdate', 'photo', 'notes']\n",
      "Order Details: ['orderdetailid', 'orderid', 'productid', 'quantity']\n",
      "Orders: ['orderid', 'customerid', 'employeeid', 'orderdate', 'shipperid']\n",
      "Products: ['productid', 'productname', 'supplierid', 'categoryid', 'unit', 'price']\n",
      "Shippers: ['shipperid', 'shippername', 'phone']\n",
      "Suppliers: ['supplierid', 'suppliername', 'contactname', 'address', 'city', 'postalcode', 'country', 'phone']\n",
      "Dimensions of DataFrames:\n",
      "Customers: (91, 7)\n",
      "Categories: (8, 3)\n",
      "Employees: (10, 6)\n",
      "OrderDetails: (518, 4)\n",
      "Orders: (196, 5)\n",
      "Products: (77, 6)\n",
      "Shippers: (3, 3)\n",
      "Suppliers: (29, 8)\n"
     ]
    }
   ],
   "source": [
    "# Define path to data\n",
    "path = 'workspace/Data/'\n",
    "\n",
    "# Read data from .csv files\n",
    "df_customers = pd.read_csv(f'{path}Customers.csv', sep=',')\n",
    "df_categories = pd.read_csv(f'{path}Categories.csv', sep=',')\n",
    "df_employees = pd.read_csv(f'{path}Employees.csv', sep=',')\n",
    "df_order_details = pd.read_csv(f'{path}OrderDetails.csv', sep=',')\n",
    "df_orders = pd.read_csv(f'{path}Orders.csv', sep=',')\n",
    "df_products = pd.read_csv(f'{path}Products.csv', sep=',')\n",
    "df_shippers = pd.read_csv(f'{path}Shippers.csv', sep=',')\n",
    "df_suppliers = pd.read_csv(f'{path}Suppliers.csv', sep=',')\n",
    "\n",
    "# Change column names to lowercase\n",
    "df_customers.columns = df_customers.columns.str.lower()\n",
    "df_categories.columns = df_categories.columns.str.lower()\n",
    "df_employees.columns = df_employees.columns.str.lower()\n",
    "df_order_details.columns = df_order_details.columns.str.lower()\n",
    "df_orders.columns = df_orders.columns.str.lower()\n",
    "df_products.columns = df_products.columns.str.lower()\n",
    "df_shippers.columns = df_shippers.columns.str.lower()\n",
    "df_suppliers.columns = df_suppliers.columns.str.lower()\n",
    "\n",
    "# Print new lowercase column names\n",
    "print(\"Lowercase Column Names:\")\n",
    "print(f\"Customers: {df_customers.columns.tolist()}\")\n",
    "print(f\"Categories: {df_categories.columns.tolist()}\")\n",
    "print(f\"Employees: {df_employees.columns.tolist()}\")\n",
    "print(f\"Order Details: {df_order_details.columns.tolist()}\")\n",
    "print(f\"Orders: {df_orders.columns.tolist()}\")\n",
    "print(f\"Products: {df_products.columns.tolist()}\")\n",
    "print(f\"Shippers: {df_shippers.columns.tolist()}\")\n",
    "print(f\"Suppliers: {df_suppliers.columns.tolist()}\")\n",
    "\n",
    "# Check dimensions of DataFrames\n",
    "print(\"Dimensions of DataFrames:\")\n",
    "print(f\"Customers: {df_customers.shape}\")\n",
    "print(f\"Categories: {df_categories.shape}\")\n",
    "print(f\"Employees: {df_employees.shape}\")\n",
    "print(f\"OrderDetails: {df_order_details.shape}\")\n",
    "print(f\"Orders: {df_orders.shape}\")\n",
    "print(f\"Products: {df_products.shape}\")\n",
    "print(f\"Shippers: {df_shippers.shape}\")\n",
    "print(f\"Suppliers: {df_suppliers.shape}\")\n"
   ]
  },
  {
   "cell_type": "markdown",
   "id": "66164662",
   "metadata": {},
   "source": [
    "## Create database connection"
   ]
  },
  {
   "cell_type": "code",
   "execution_count": 3,
   "id": "cfd07b2d-1b23-4c93-b3f9-ccc3dcc73c31",
   "metadata": {},
   "outputs": [
    {
     "name": "stdout",
     "output_type": "stream",
     "text": [
      "('northwind',)\n"
     ]
    }
   ],
   "source": [
    "# Set up database connection\n",
    "user = \"pgadmin\"\n",
    "password = \"geheim\"\n",
    "host = \"localhost\"\n",
    "port = \"5432\"\n",
    "database = \"northwind\"\n",
    "\n",
    "# Create Connection URL\n",
    "db_connection_url = \"postgresql://\" + user + \":\" + password +\\\n",
    "                    \"@\" + host + \":\" + port + \"/\" + database\n",
    "\n",
    "# Create SQLAlchemy Engine\n",
    "engine = create_engine(db_connection_url)\n",
    "\n",
    "# Test database connection\n",
    "with engine.connect() as connection:\n",
    "    result = connection.execute(text('SELECT current_database()'))\n",
    "    print(result.fetchone())\n",
    "\n",
    "# Dispose the engine\n",
    "engine.dispose()"
   ]
  },
  {
   "cell_type": "markdown",
   "id": "4dbe76ca",
   "metadata": {},
   "source": [
    "## Write data frames to database tables"
   ]
  },
  {
   "cell_type": "code",
   "execution_count": 4,
   "id": "ba3aec4c",
   "metadata": {},
   "outputs": [],
   "source": [
    "# Create SQLAlchemy Engine\n",
    "engine = create_engine(db_connection_url)\n",
    "\n",
    "# Drop tables if it exist\n",
    "with engine.connect() as connection:\n",
    "    connection.execute(text(\"DROP TABLE IF EXISTS public.categories CASCADE;\"))\n",
    "    connection.execute(text(\"DROP TABLE IF EXISTS public.customers CASCADE;\"))\n",
    "    connection.execute(text(\"DROP TABLE IF EXISTS public.employees CASCADE;\"))\n",
    "    connection.execute(text(\"DROP TABLE IF EXISTS public.orderdetails CASCADE;\"))\n",
    "    connection.execute(text(\"DROP TABLE IF EXISTS public.orders CASCADE;\"))\n",
    "    connection.execute(text(\"DROP TABLE IF EXISTS public.products CASCADE;\"))\n",
    "    connection.execute(text(\"DROP TABLE IF EXISTS public.shippers CASCADE;\"))\n",
    "    connection.execute(text(\"DROP TABLE IF EXISTS public.suppliers CASCADE;\"))\n",
    "    connection.commit()\n",
    "\n",
    "# Write DataFrames to database\n",
    "df_categories.to_sql('categories', engine)\n",
    "df_customers.to_sql('customers', engine)\n",
    "df_employees.to_sql('employees', engine)\n",
    "df_order_details.to_sql('orderdetails', engine)\n",
    "df_orders.to_sql('orders', engine)\n",
    "df_products.to_sql('products', engine)\n",
    "df_shippers.to_sql('shippers', engine)\n",
    "df_suppliers.to_sql('suppliers', engine)\n",
    "\n",
    "# Dispose the engine\n",
    "engine.dispose()"
   ]
  },
  {
   "cell_type": "markdown",
   "id": "5c01d582",
   "metadata": {},
   "source": [
    "## List tables in the database"
   ]
  },
  {
   "cell_type": "code",
   "execution_count": 5,
   "id": "288c472a",
   "metadata": {},
   "outputs": [
    {
     "name": "stdout",
     "output_type": "stream",
     "text": [
      "northwind_table\n",
      "categories\n",
      "customers\n",
      "employees\n",
      "orderdetails\n",
      "orders\n",
      "products\n",
      "shippers\n",
      "suppliers\n"
     ]
    }
   ],
   "source": [
    "# Create SQLAlchemy Engine\n",
    "engine = create_engine(db_connection_url)\n",
    "\n",
    "# Open a connection\n",
    "with engine.connect() as connection:\n",
    "\n",
    "    # Execute the query\n",
    "    result = connection.execute(text(\"\"\"SELECT table_name\n",
    "                                        FROM information_schema.tables\n",
    "                                        WHERE table_schema = 'public';\"\"\"))\n",
    "    \n",
    "    # Fetch and print the results\n",
    "    for row in result:\n",
    "        print(row[0])\n",
    "\n",
    "# Dispose the engine\n",
    "engine.dispose()"
   ]
  },
  {
   "cell_type": "markdown",
   "id": "2b80dc61",
   "metadata": {},
   "source": [
    "## Create a SQL query to retrieve product information from a database."
   ]
  },
  {
   "cell_type": "code",
   "execution_count": 6,
   "id": "077a187d-05be-4c30-a367-a4e1a19d4466",
   "metadata": {},
   "outputs": [
    {
     "data": {
      "text/html": [
       "<div>\n",
       "<style scoped>\n",
       "    .dataframe tbody tr th:only-of-type {\n",
       "        vertical-align: middle;\n",
       "    }\n",
       "\n",
       "    .dataframe tbody tr th {\n",
       "        vertical-align: top;\n",
       "    }\n",
       "\n",
       "    .dataframe thead th {\n",
       "        text-align: right;\n",
       "    }\n",
       "</style>\n",
       "<table border=\"1\" class=\"dataframe\">\n",
       "  <thead>\n",
       "    <tr style=\"text-align: right;\">\n",
       "      <th></th>\n",
       "      <th>customerid</th>\n",
       "      <th>ordercount</th>\n",
       "    </tr>\n",
       "  </thead>\n",
       "  <tbody>\n",
       "    <tr>\n",
       "      <th>0</th>\n",
       "      <td>20</td>\n",
       "      <td>10</td>\n",
       "    </tr>\n",
       "    <tr>\n",
       "      <th>1</th>\n",
       "      <td>65</td>\n",
       "      <td>7</td>\n",
       "    </tr>\n",
       "    <tr>\n",
       "      <th>2</th>\n",
       "      <td>63</td>\n",
       "      <td>7</td>\n",
       "    </tr>\n",
       "    <tr>\n",
       "      <th>3</th>\n",
       "      <td>87</td>\n",
       "      <td>7</td>\n",
       "    </tr>\n",
       "    <tr>\n",
       "      <th>4</th>\n",
       "      <td>37</td>\n",
       "      <td>6</td>\n",
       "    </tr>\n",
       "    <tr>\n",
       "      <th>...</th>\n",
       "      <td>...</td>\n",
       "      <td>...</td>\n",
       "    </tr>\n",
       "    <tr>\n",
       "      <th>69</th>\n",
       "      <td>70</td>\n",
       "      <td>1</td>\n",
       "    </tr>\n",
       "    <tr>\n",
       "      <th>70</th>\n",
       "      <td>90</td>\n",
       "      <td>1</td>\n",
       "    </tr>\n",
       "    <tr>\n",
       "      <th>71</th>\n",
       "      <td>31</td>\n",
       "      <td>1</td>\n",
       "    </tr>\n",
       "    <tr>\n",
       "      <th>72</th>\n",
       "      <td>27</td>\n",
       "      <td>1</td>\n",
       "    </tr>\n",
       "    <tr>\n",
       "      <th>73</th>\n",
       "      <td>54</td>\n",
       "      <td>1</td>\n",
       "    </tr>\n",
       "  </tbody>\n",
       "</table>\n",
       "<p>74 rows × 2 columns</p>\n",
       "</div>"
      ],
      "text/plain": [
       "    customerid  ordercount\n",
       "0           20          10\n",
       "1           65           7\n",
       "2           63           7\n",
       "3           87           7\n",
       "4           37           6\n",
       "..         ...         ...\n",
       "69          70           1\n",
       "70          90           1\n",
       "71          31           1\n",
       "72          27           1\n",
       "73          54           1\n",
       "\n",
       "[74 rows x 2 columns]"
      ]
     },
     "execution_count": 6,
     "metadata": {},
     "output_type": "execute_result"
    }
   ],
   "source": [
    "# Create SQLAlchemy Engine\n",
    "engine = create_engine(db_connection_url)\n",
    "\n",
    "# Write data to table\n",
    "df_sub = pd.read_sql_query('''SELECT \n",
    "    CustomerID, \n",
    "    COUNT(OrderID) AS OrderCount\n",
    "FROM Orders\n",
    "GROUP BY CustomerID\n",
    "ORDER BY OrderCount DESC;''', \n",
    "                          con=engine)\n",
    "\n",
    "# Dispose the engine\n",
    "engine.dispose()\n",
    "\n",
    "# Show the data\n",
    "df_sub"
   ]
  },
  {
   "cell_type": "markdown",
   "id": "de56bf9d",
   "metadata": {},
   "source": [
    "## Solutions"
   ]
  },
  {
   "cell_type": "code",
   "execution_count": null,
   "id": "14f383cf",
   "metadata": {},
   "outputs": [
    {
     "data": {
      "text/html": [
       "<div>\n",
       "<style scoped>\n",
       "    .dataframe tbody tr th:only-of-type {\n",
       "        vertical-align: middle;\n",
       "    }\n",
       "\n",
       "    .dataframe tbody tr th {\n",
       "        vertical-align: top;\n",
       "    }\n",
       "\n",
       "    .dataframe thead th {\n",
       "        text-align: right;\n",
       "    }\n",
       "</style>\n",
       "<table border=\"1\" class=\"dataframe\">\n",
       "  <thead>\n",
       "    <tr style=\"text-align: right;\">\n",
       "      <th></th>\n",
       "      <th>orderid</th>\n",
       "      <th>employeeid</th>\n",
       "      <th>firstname</th>\n",
       "      <th>lastname</th>\n",
       "    </tr>\n",
       "  </thead>\n",
       "  <tbody>\n",
       "    <tr>\n",
       "      <th>0</th>\n",
       "      <td>10248</td>\n",
       "      <td>5</td>\n",
       "      <td>Steven</td>\n",
       "      <td>Buchanan</td>\n",
       "    </tr>\n",
       "    <tr>\n",
       "      <th>1</th>\n",
       "      <td>10249</td>\n",
       "      <td>6</td>\n",
       "      <td>Michael</td>\n",
       "      <td>Suyama</td>\n",
       "    </tr>\n",
       "    <tr>\n",
       "      <th>2</th>\n",
       "      <td>10250</td>\n",
       "      <td>4</td>\n",
       "      <td>Margaret</td>\n",
       "      <td>Peacock</td>\n",
       "    </tr>\n",
       "    <tr>\n",
       "      <th>3</th>\n",
       "      <td>10251</td>\n",
       "      <td>3</td>\n",
       "      <td>Janet</td>\n",
       "      <td>Leverling</td>\n",
       "    </tr>\n",
       "    <tr>\n",
       "      <th>4</th>\n",
       "      <td>10252</td>\n",
       "      <td>4</td>\n",
       "      <td>Margaret</td>\n",
       "      <td>Peacock</td>\n",
       "    </tr>\n",
       "    <tr>\n",
       "      <th>...</th>\n",
       "      <td>...</td>\n",
       "      <td>...</td>\n",
       "      <td>...</td>\n",
       "      <td>...</td>\n",
       "    </tr>\n",
       "    <tr>\n",
       "      <th>191</th>\n",
       "      <td>10439</td>\n",
       "      <td>6</td>\n",
       "      <td>Michael</td>\n",
       "      <td>Suyama</td>\n",
       "    </tr>\n",
       "    <tr>\n",
       "      <th>192</th>\n",
       "      <td>10440</td>\n",
       "      <td>4</td>\n",
       "      <td>Margaret</td>\n",
       "      <td>Peacock</td>\n",
       "    </tr>\n",
       "    <tr>\n",
       "      <th>193</th>\n",
       "      <td>10441</td>\n",
       "      <td>3</td>\n",
       "      <td>Janet</td>\n",
       "      <td>Leverling</td>\n",
       "    </tr>\n",
       "    <tr>\n",
       "      <th>194</th>\n",
       "      <td>10442</td>\n",
       "      <td>3</td>\n",
       "      <td>Janet</td>\n",
       "      <td>Leverling</td>\n",
       "    </tr>\n",
       "    <tr>\n",
       "      <th>195</th>\n",
       "      <td>10443</td>\n",
       "      <td>8</td>\n",
       "      <td>Laura</td>\n",
       "      <td>Callahan</td>\n",
       "    </tr>\n",
       "  </tbody>\n",
       "</table>\n",
       "<p>196 rows × 4 columns</p>\n",
       "</div>"
      ],
      "text/plain": [
       "     orderid  employeeid firstname   lastname\n",
       "0      10248           5    Steven   Buchanan\n",
       "1      10249           6   Michael     Suyama\n",
       "2      10250           4  Margaret    Peacock\n",
       "3      10251           3     Janet  Leverling\n",
       "4      10252           4  Margaret    Peacock\n",
       "..       ...         ...       ...        ...\n",
       "191    10439           6   Michael     Suyama\n",
       "192    10440           4  Margaret    Peacock\n",
       "193    10441           3     Janet  Leverling\n",
       "194    10442           3     Janet  Leverling\n",
       "195    10443           8     Laura   Callahan\n",
       "\n",
       "[196 rows x 4 columns]"
      ]
     },
     "execution_count": 7,
     "metadata": {},
     "output_type": "execute_result"
    }
   ],
   "source": [
    "#1. What are the details of all customers whose country is 'Spain'?\n",
    "#Create SQLAlchemy Engine\n",
    "engine = create_engine(db_connection_url)\n",
    "\n",
    "# Write data to table\n",
    "df_sub = pd.read_sql_query('''\n",
    "                    SELECT \n",
    "    o.OrderID, \n",
    "    e.EmployeeID, \n",
    "    e.FirstName, \n",
    "    e.LastName\n",
    "FROM Orders o\n",
    "Left JOIN Employees e ON o.EmployeeID = e.EmployeeID;\n",
    "                           ''', \n",
    "                          con=engine)\n",
    "\n",
    "# Dispose the engine\n",
    "engine.dispose()\n",
    "\n",
    "# Show the data\n",
    "df_sub\n"
   ]
  },
  {
   "cell_type": "markdown",
   "id": "5a828fd6-ebe9-431d-b0ab-0ee97e96cf53",
   "metadata": {},
   "source": [
    "## Plot product prices"
   ]
  },
  {
   "cell_type": "code",
   "execution_count": 8,
   "id": "e57b9583-89b5-4b58-b8a1-1349f21d086a",
   "metadata": {},
   "outputs": [
    {
     "ename": "KeyError",
     "evalue": "'price'",
     "output_type": "error",
     "traceback": [
      "\u001b[0;31m---------------------------------------------------------------------------\u001b[0m",
      "\u001b[0;31mKeyError\u001b[0m                                  Traceback (most recent call last)",
      "File \u001b[0;32m/usr/local/lib/python3.11/site-packages/pandas/core/indexes/base.py:3805\u001b[0m, in \u001b[0;36mIndex.get_loc\u001b[0;34m(self, key)\u001b[0m\n\u001b[1;32m   3804\u001b[0m \u001b[38;5;28;01mtry\u001b[39;00m:\n\u001b[0;32m-> 3805\u001b[0m     \u001b[38;5;28;01mreturn\u001b[39;00m \u001b[38;5;28;43mself\u001b[39;49m\u001b[38;5;241;43m.\u001b[39;49m\u001b[43m_engine\u001b[49m\u001b[38;5;241;43m.\u001b[39;49m\u001b[43mget_loc\u001b[49m\u001b[43m(\u001b[49m\u001b[43mcasted_key\u001b[49m\u001b[43m)\u001b[49m\n\u001b[1;32m   3806\u001b[0m \u001b[38;5;28;01mexcept\u001b[39;00m \u001b[38;5;167;01mKeyError\u001b[39;00m \u001b[38;5;28;01mas\u001b[39;00m err:\n",
      "File \u001b[0;32mindex.pyx:167\u001b[0m, in \u001b[0;36mpandas._libs.index.IndexEngine.get_loc\u001b[0;34m()\u001b[0m\n",
      "File \u001b[0;32mindex.pyx:196\u001b[0m, in \u001b[0;36mpandas._libs.index.IndexEngine.get_loc\u001b[0;34m()\u001b[0m\n",
      "File \u001b[0;32mpandas/_libs/hashtable_class_helper.pxi:7081\u001b[0m, in \u001b[0;36mpandas._libs.hashtable.PyObjectHashTable.get_item\u001b[0;34m()\u001b[0m\n",
      "File \u001b[0;32mpandas/_libs/hashtable_class_helper.pxi:7089\u001b[0m, in \u001b[0;36mpandas._libs.hashtable.PyObjectHashTable.get_item\u001b[0;34m()\u001b[0m\n",
      "\u001b[0;31mKeyError\u001b[0m: 'price'",
      "\nThe above exception was the direct cause of the following exception:\n",
      "\u001b[0;31mKeyError\u001b[0m                                  Traceback (most recent call last)",
      "Cell \u001b[0;32mIn[8], line 5\u001b[0m\n\u001b[1;32m      3\u001b[0m plt\u001b[38;5;241m.\u001b[39mxticks(fontsize\u001b[38;5;241m=\u001b[39m\u001b[38;5;241m14\u001b[39m, rotation\u001b[38;5;241m=\u001b[39m\u001b[38;5;241m0\u001b[39m)\n\u001b[1;32m      4\u001b[0m plt\u001b[38;5;241m.\u001b[39myticks(fontsize\u001b[38;5;241m=\u001b[39m\u001b[38;5;241m14\u001b[39m, rotation\u001b[38;5;241m=\u001b[39m\u001b[38;5;241m0\u001b[39m)\n\u001b[0;32m----> 5\u001b[0m n, bins, patches \u001b[38;5;241m=\u001b[39m plt\u001b[38;5;241m.\u001b[39mhist(x\u001b[38;5;241m=\u001b[39m\u001b[43mdf_sub\u001b[49m\u001b[43m[\u001b[49m\u001b[38;5;124;43m'\u001b[39;49m\u001b[38;5;124;43mprice\u001b[39;49m\u001b[38;5;124;43m'\u001b[39;49m\u001b[43m]\u001b[49m, \n\u001b[1;32m      6\u001b[0m                             bins\u001b[38;5;241m=\u001b[39m\u001b[38;5;241m20\u001b[39m, \n\u001b[1;32m      7\u001b[0m                             color\u001b[38;5;241m=\u001b[39m\u001b[38;5;124m'\u001b[39m\u001b[38;5;124m#C53115\u001b[39m\u001b[38;5;124m'\u001b[39m,\n\u001b[1;32m      8\u001b[0m                             alpha\u001b[38;5;241m=\u001b[39m\u001b[38;5;241m1.00\u001b[39m, \n\u001b[1;32m      9\u001b[0m                             rwidth\u001b[38;5;241m=\u001b[39m\u001b[38;5;241m0.95\u001b[39m\n\u001b[1;32m     10\u001b[0m                    )\n\u001b[1;32m     11\u001b[0m plt\u001b[38;5;241m.\u001b[39mgrid(\u001b[38;5;28;01mTrue\u001b[39;00m)\n\u001b[1;32m     12\u001b[0m plt\u001b[38;5;241m.\u001b[39mticklabel_format(style\u001b[38;5;241m=\u001b[39m\u001b[38;5;124m'\u001b[39m\u001b[38;5;124mplain\u001b[39m\u001b[38;5;124m'\u001b[39m)\n",
      "File \u001b[0;32m/usr/local/lib/python3.11/site-packages/pandas/core/frame.py:4102\u001b[0m, in \u001b[0;36mDataFrame.__getitem__\u001b[0;34m(self, key)\u001b[0m\n\u001b[1;32m   4100\u001b[0m \u001b[38;5;28;01mif\u001b[39;00m \u001b[38;5;28mself\u001b[39m\u001b[38;5;241m.\u001b[39mcolumns\u001b[38;5;241m.\u001b[39mnlevels \u001b[38;5;241m>\u001b[39m \u001b[38;5;241m1\u001b[39m:\n\u001b[1;32m   4101\u001b[0m     \u001b[38;5;28;01mreturn\u001b[39;00m \u001b[38;5;28mself\u001b[39m\u001b[38;5;241m.\u001b[39m_getitem_multilevel(key)\n\u001b[0;32m-> 4102\u001b[0m indexer \u001b[38;5;241m=\u001b[39m \u001b[38;5;28;43mself\u001b[39;49m\u001b[38;5;241;43m.\u001b[39;49m\u001b[43mcolumns\u001b[49m\u001b[38;5;241;43m.\u001b[39;49m\u001b[43mget_loc\u001b[49m\u001b[43m(\u001b[49m\u001b[43mkey\u001b[49m\u001b[43m)\u001b[49m\n\u001b[1;32m   4103\u001b[0m \u001b[38;5;28;01mif\u001b[39;00m is_integer(indexer):\n\u001b[1;32m   4104\u001b[0m     indexer \u001b[38;5;241m=\u001b[39m [indexer]\n",
      "File \u001b[0;32m/usr/local/lib/python3.11/site-packages/pandas/core/indexes/base.py:3812\u001b[0m, in \u001b[0;36mIndex.get_loc\u001b[0;34m(self, key)\u001b[0m\n\u001b[1;32m   3807\u001b[0m     \u001b[38;5;28;01mif\u001b[39;00m \u001b[38;5;28misinstance\u001b[39m(casted_key, \u001b[38;5;28mslice\u001b[39m) \u001b[38;5;129;01mor\u001b[39;00m (\n\u001b[1;32m   3808\u001b[0m         \u001b[38;5;28misinstance\u001b[39m(casted_key, abc\u001b[38;5;241m.\u001b[39mIterable)\n\u001b[1;32m   3809\u001b[0m         \u001b[38;5;129;01mand\u001b[39;00m \u001b[38;5;28many\u001b[39m(\u001b[38;5;28misinstance\u001b[39m(x, \u001b[38;5;28mslice\u001b[39m) \u001b[38;5;28;01mfor\u001b[39;00m x \u001b[38;5;129;01min\u001b[39;00m casted_key)\n\u001b[1;32m   3810\u001b[0m     ):\n\u001b[1;32m   3811\u001b[0m         \u001b[38;5;28;01mraise\u001b[39;00m InvalidIndexError(key)\n\u001b[0;32m-> 3812\u001b[0m     \u001b[38;5;28;01mraise\u001b[39;00m \u001b[38;5;167;01mKeyError\u001b[39;00m(key) \u001b[38;5;28;01mfrom\u001b[39;00m \u001b[38;5;21;01merr\u001b[39;00m\n\u001b[1;32m   3813\u001b[0m \u001b[38;5;28;01mexcept\u001b[39;00m \u001b[38;5;167;01mTypeError\u001b[39;00m:\n\u001b[1;32m   3814\u001b[0m     \u001b[38;5;66;03m# If we have a listlike key, _check_indexing_error will raise\u001b[39;00m\n\u001b[1;32m   3815\u001b[0m     \u001b[38;5;66;03m#  InvalidIndexError. Otherwise we fall through and re-raise\u001b[39;00m\n\u001b[1;32m   3816\u001b[0m     \u001b[38;5;66;03m#  the TypeError.\u001b[39;00m\n\u001b[1;32m   3817\u001b[0m     \u001b[38;5;28mself\u001b[39m\u001b[38;5;241m.\u001b[39m_check_indexing_error(key)\n",
      "\u001b[0;31mKeyError\u001b[0m: 'price'"
     ]
    },
    {
     "data": {
      "image/png": "[encoded data removed]",
      "text/plain": [
       "<Figure size 700x400 with 1 Axes>"
      ]
     },
     "metadata": {},
     "output_type": "display_data"
    }
   ],
   "source": [
    "# Plot Histogram\n",
    "fig = plt.figure( figsize=(7,4))\n",
    "plt.xticks(fontsize=14, rotation=0)\n",
    "plt.yticks(fontsize=14, rotation=0)\n",
    "n, bins, patches = plt.hist(x=df_sub['price'], \n",
    "                            bins=20, \n",
    "                            color='#C53115',\n",
    "                            alpha=1.00, \n",
    "                            rwidth=0.95\n",
    "                   )\n",
    "plt.grid(True)\n",
    "plt.ticklabel_format(style='plain')\n",
    "plt.grid(axis='y', alpha=0.75)\n",
    "\n",
    "# Set labels\n",
    "plt.xlabel('Price (USD)', fontsize=10, labelpad=10)\n",
    "plt.ylabel('Frequency', fontsize=10, labelpad=10)\n",
    "plt.title('Histogram of product prices', fontsize=12, pad=10)\n",
    "\n",
    "# Set fontsize of tick labels\n",
    "plt.xticks(fontsize = 10)\n",
    "plt.yticks(fontsize = 10)\n",
    "\n",
    "plt.show()"
   ]
  },
  {
   "attachments": {},
   "cell_type": "markdown",
   "id": "ff525b1e",
   "metadata": {},
   "source": [
    "### Jupyter notebook --footer info-- (please always provide this at the end of each notebook)"
   ]
  },
  {
   "cell_type": "code",
   "execution_count": 9,
   "id": "e6cae5b2",
   "metadata": {},
   "outputs": [
    {
     "name": "stdout",
     "output_type": "stream",
     "text": [
      "-----------------------------------\n",
      "POSIX\n",
      "Linux | 6.8.0-1014-azure\n",
      "Datetime: 2024-09-28 14:32:27\n",
      "Python Version: 3.11.10\n",
      "-----------------------------------\n"
     ]
    }
   ],
   "source": [
    "import os\n",
    "import platform\n",
    "import socket\n",
    "from platform import python_version\n",
    "from datetime import datetime\n",
    "\n",
    "print('-----------------------------------')\n",
    "print(os.name.upper())\n",
    "print(platform.system(), '|', platform.release())\n",
    "print('Datetime:', datetime.now().strftime(\"%Y-%m-%d %H:%M:%S\"))\n",
    "print('Python Version:', python_version())\n",
    "print('-----------------------------------')"
   ]
  }
 ],
 "metadata": {
  "kernelspec": {
   "display_name": "Python 3",
   "language": "python",
   "name": "python3"
  },
  "language_info": {
   "codemirror_mode": {
    "name": "ipython",
    "version": 3
   },
   "file_extension": ".py",
   "mimetype": "text/x-python",
   "name": "python",
   "nbconvert_exporter": "python",
   "pygments_lexer": "ipython3",
   "version": "3.11.10"
  }
 },
 "nbformat": 4,
 "nbformat_minor": 5
}
